{
 "cells": [
  {
   "cell_type": "markdown",
   "metadata": {},
   "source": [
    "# Analysis: XGBoost for Profitability\n",
    "\n",
    "Goal: Use XGBoost to create a model classifying the profitable feature."
   ]
  },
  {
   "cell_type": "code",
   "execution_count": 82,
   "metadata": {
    "ExecuteTime": {
     "end_time": "2019-11-11T15:15:44.330989Z",
     "start_time": "2019-11-11T15:15:44.315988Z"
    }
   },
   "outputs": [],
   "source": [
    "import pandas as pd\n",
    "import numpy as np\n",
    "np.random.seed(0)\n",
    "\n",
    "import matplotlib.pyplot as plt\n",
    "import seaborn as sns\n",
    "%matplotlib inline\n",
    "\n",
    "import xgboost as xgb\n",
    "from xgboost import XGBClassifier\n",
    "\n",
    "from sklearn.model_selection import train_test_split\n",
    "from sklearn.metrics import accuracy_score\n",
    "from sklearn.metrics import f1_score\n",
    "from sklearn.metrics import roc_auc_score\n",
    "from sklearn.model_selection import GridSearchCV\n",
    "from sklearn.decomposition import PCA\n",
    "from sklearn.preprocessing import StandardScaler\n",
    "from sklearn.metrics import confusion_matrix\n",
    "\n",
    "from imblearn.over_sampling import SMOTE\n",
    "from imblearn.pipeline import Pipeline\n",
    "\n",
    "pd.set_option('display.max_rows', 100);"
   ]
  },
  {
   "cell_type": "code",
   "execution_count": 4,
   "metadata": {
    "ExecuteTime": {
     "end_time": "2019-11-08T00:43:15.849718Z",
     "start_time": "2019-11-08T00:43:15.144664Z"
    }
   },
   "outputs": [],
   "source": [
    "%load_ext autoreload\n",
    "\n",
    "import sys\n",
    "sys.path.append('../')\n",
    "import plot_confusion_matrix as pcm;"
   ]
  },
  {
   "cell_type": "markdown",
   "metadata": {},
   "source": [
    "## Prepare Target & Features\n",
    "Dropped 'volume' and 'weight' since they have many nulls and are collinear.  \n",
    "Dropped arbitrary details contained in 'set_no' and 'name'.  \n",
    "Dropped price data used to create the target.  \n",
    "Dropped popularity because it reflects future perception not info available at the time of release.  \n",
    "Dropped number of unique parts by category columns since we already have the total by category and wanted to prevent redundancy in the signal provided by those features. The total pieces per set were kept since the category breakdowns were dropped, but the total unique parts per set were dropped since their category breakdowns were kept. The intent of this was to reduce dimensionality and collinearity to hopefully improve model results and generalizability."
   ]
  },
  {
   "cell_type": "code",
   "execution_count": 5,
   "metadata": {
    "ExecuteTime": {
     "end_time": "2019-11-08T00:43:16.006826Z",
     "start_time": "2019-11-08T00:43:15.855687Z"
    }
   },
   "outputs": [],
   "source": [
    "FEATURE_FILE = '../data/merge_feature.csv'\n",
    "full_df = pd.read_csv(FEATURE_FILE)"
   ]
  },
  {
   "cell_type": "code",
   "execution_count": 6,
   "metadata": {
    "ExecuteTime": {
     "end_time": "2019-11-08T00:43:16.022747Z",
     "start_time": "2019-11-08T00:43:16.010747Z"
    }
   },
   "outputs": [],
   "source": [
    "drop_category_nmbr_cnts = [s for s in list(full_df.columns) if '_cnt_prts' in s]"
   ]
  },
  {
   "cell_type": "code",
   "execution_count": 7,
   "metadata": {
    "ExecuteTime": {
     "end_time": "2019-11-08T00:43:16.101073Z",
     "start_time": "2019-11-08T00:43:16.033745Z"
    }
   },
   "outputs": [
    {
     "data": {
      "text/html": [
       "<div>\n",
       "<style scoped>\n",
       "    .dataframe tbody tr th:only-of-type {\n",
       "        vertical-align: middle;\n",
       "    }\n",
       "\n",
       "    .dataframe tbody tr th {\n",
       "        vertical-align: top;\n",
       "    }\n",
       "\n",
       "    .dataframe thead th {\n",
       "        text-align: right;\n",
       "    }\n",
       "</style>\n",
       "<table border=\"1\" class=\"dataframe\">\n",
       "  <thead>\n",
       "    <tr style=\"text-align: right;\">\n",
       "      <th></th>\n",
       "      <th>year</th>\n",
       "      <th>number_parts</th>\n",
       "      <th>total_spare_parts</th>\n",
       "      <th>number_colors</th>\n",
       "      <th>bars_ladders_and_fences_tot_prts</th>\n",
       "      <th>baseplates_tot_prts</th>\n",
       "      <th>belville_scala_and_fabuland_tot_prts</th>\n",
       "      <th>bionicle_hero_factory_and_constraction_tot_prts</th>\n",
       "      <th>bricks_tot_prts</th>\n",
       "      <th>bricks_curved_tot_prts</th>\n",
       "      <th>...</th>\n",
       "      <th>transportation_-_sea_and_air_tot_prts</th>\n",
       "      <th>tubes_and_hoses_tot_prts</th>\n",
       "      <th>wheels_and_tyres_tot_prts</th>\n",
       "      <th>windows_and_doors_tot_prts</th>\n",
       "      <th>windscreens_and_fuselage_tot_prts</th>\n",
       "      <th>znap_tot_prts</th>\n",
       "      <th>category</th>\n",
       "      <th>scolor_1st</th>\n",
       "      <th>scolor_2nd</th>\n",
       "      <th>profitable</th>\n",
       "    </tr>\n",
       "  </thead>\n",
       "  <tbody>\n",
       "    <tr>\n",
       "      <th>4</th>\n",
       "      <td>1984</td>\n",
       "      <td>30</td>\n",
       "      <td>0</td>\n",
       "      <td>7</td>\n",
       "      <td>2</td>\n",
       "      <td>1</td>\n",
       "      <td>8</td>\n",
       "      <td>0</td>\n",
       "      <td>21</td>\n",
       "      <td>2</td>\n",
       "      <td>...</td>\n",
       "      <td>0</td>\n",
       "      <td>0</td>\n",
       "      <td>0</td>\n",
       "      <td>3</td>\n",
       "      <td>0</td>\n",
       "      <td>0</td>\n",
       "      <td>Bigfig-Junior</td>\n",
       "      <td>Yellow</td>\n",
       "      <td>Red</td>\n",
       "      <td>1.0</td>\n",
       "    </tr>\n",
       "    <tr>\n",
       "      <th>5</th>\n",
       "      <td>1984</td>\n",
       "      <td>34</td>\n",
       "      <td>2</td>\n",
       "      <td>8</td>\n",
       "      <td>2</td>\n",
       "      <td>1</td>\n",
       "      <td>6</td>\n",
       "      <td>0</td>\n",
       "      <td>8</td>\n",
       "      <td>0</td>\n",
       "      <td>...</td>\n",
       "      <td>3</td>\n",
       "      <td>0</td>\n",
       "      <td>0</td>\n",
       "      <td>7</td>\n",
       "      <td>0</td>\n",
       "      <td>0</td>\n",
       "      <td>Bigfig-Junior</td>\n",
       "      <td>Yellow</td>\n",
       "      <td>Red</td>\n",
       "      <td>1.0</td>\n",
       "    </tr>\n",
       "    <tr>\n",
       "      <th>8</th>\n",
       "      <td>1984</td>\n",
       "      <td>26</td>\n",
       "      <td>0</td>\n",
       "      <td>8</td>\n",
       "      <td>0</td>\n",
       "      <td>0</td>\n",
       "      <td>0</td>\n",
       "      <td>0</td>\n",
       "      <td>1</td>\n",
       "      <td>0</td>\n",
       "      <td>...</td>\n",
       "      <td>0</td>\n",
       "      <td>0</td>\n",
       "      <td>2</td>\n",
       "      <td>0</td>\n",
       "      <td>0</td>\n",
       "      <td>0</td>\n",
       "      <td>Historical</td>\n",
       "      <td>Black</td>\n",
       "      <td>Red</td>\n",
       "      <td>1.0</td>\n",
       "    </tr>\n",
       "    <tr>\n",
       "      <th>9</th>\n",
       "      <td>1984</td>\n",
       "      <td>30</td>\n",
       "      <td>4</td>\n",
       "      <td>8</td>\n",
       "      <td>0</td>\n",
       "      <td>0</td>\n",
       "      <td>0</td>\n",
       "      <td>0</td>\n",
       "      <td>2</td>\n",
       "      <td>0</td>\n",
       "      <td>...</td>\n",
       "      <td>0</td>\n",
       "      <td>0</td>\n",
       "      <td>0</td>\n",
       "      <td>0</td>\n",
       "      <td>0</td>\n",
       "      <td>0</td>\n",
       "      <td>Historical</td>\n",
       "      <td>Black</td>\n",
       "      <td>Blue</td>\n",
       "      <td>1.0</td>\n",
       "    </tr>\n",
       "    <tr>\n",
       "      <th>10</th>\n",
       "      <td>1984</td>\n",
       "      <td>30</td>\n",
       "      <td>0</td>\n",
       "      <td>7</td>\n",
       "      <td>0</td>\n",
       "      <td>0</td>\n",
       "      <td>0</td>\n",
       "      <td>0</td>\n",
       "      <td>6</td>\n",
       "      <td>0</td>\n",
       "      <td>...</td>\n",
       "      <td>0</td>\n",
       "      <td>0</td>\n",
       "      <td>2</td>\n",
       "      <td>0</td>\n",
       "      <td>0</td>\n",
       "      <td>0</td>\n",
       "      <td>Historical</td>\n",
       "      <td>Black</td>\n",
       "      <td>Red</td>\n",
       "      <td>1.0</td>\n",
       "    </tr>\n",
       "  </tbody>\n",
       "</table>\n",
       "<p>5 rows × 65 columns</p>\n",
       "</div>"
      ],
      "text/plain": [
       "    year  number_parts  total_spare_parts  number_colors  \\\n",
       "4   1984            30                  0              7   \n",
       "5   1984            34                  2              8   \n",
       "8   1984            26                  0              8   \n",
       "9   1984            30                  4              8   \n",
       "10  1984            30                  0              7   \n",
       "\n",
       "    bars_ladders_and_fences_tot_prts  baseplates_tot_prts  \\\n",
       "4                                  2                    1   \n",
       "5                                  2                    1   \n",
       "8                                  0                    0   \n",
       "9                                  0                    0   \n",
       "10                                 0                    0   \n",
       "\n",
       "    belville_scala_and_fabuland_tot_prts  \\\n",
       "4                                      8   \n",
       "5                                      6   \n",
       "8                                      0   \n",
       "9                                      0   \n",
       "10                                     0   \n",
       "\n",
       "    bionicle_hero_factory_and_constraction_tot_prts  bricks_tot_prts  \\\n",
       "4                                                 0               21   \n",
       "5                                                 0                8   \n",
       "8                                                 0                1   \n",
       "9                                                 0                2   \n",
       "10                                                0                6   \n",
       "\n",
       "    bricks_curved_tot_prts  ...  transportation_-_sea_and_air_tot_prts  \\\n",
       "4                        2  ...                                      0   \n",
       "5                        0  ...                                      3   \n",
       "8                        0  ...                                      0   \n",
       "9                        0  ...                                      0   \n",
       "10                       0  ...                                      0   \n",
       "\n",
       "    tubes_and_hoses_tot_prts  wheels_and_tyres_tot_prts  \\\n",
       "4                          0                          0   \n",
       "5                          0                          0   \n",
       "8                          0                          2   \n",
       "9                          0                          0   \n",
       "10                         0                          2   \n",
       "\n",
       "    windows_and_doors_tot_prts  windscreens_and_fuselage_tot_prts  \\\n",
       "4                            3                                  0   \n",
       "5                            7                                  0   \n",
       "8                            0                                  0   \n",
       "9                            0                                  0   \n",
       "10                           0                                  0   \n",
       "\n",
       "    znap_tot_prts       category  scolor_1st  scolor_2nd  profitable  \n",
       "4               0  Bigfig-Junior      Yellow         Red         1.0  \n",
       "5               0  Bigfig-Junior      Yellow         Red         1.0  \n",
       "8               0     Historical       Black         Red         1.0  \n",
       "9               0     Historical       Black        Blue         1.0  \n",
       "10              0     Historical       Black         Red         1.0  \n",
       "\n",
       "[5 rows x 65 columns]"
      ]
     },
     "execution_count": 7,
     "metadata": {},
     "output_type": "execute_result"
    }
   ],
   "source": [
    "feat_df = full_df.drop(columns=['set_no', 'name',  'price_store', 'price_used',\n",
    "                                'volume', 'weight', 'total_parts','number_spare_parts',\n",
    "                                'popularity', 'aftermarket', 'adj_store_price',\n",
    "                                'adj_aftermarket']+drop_category_nmbr_cnts)\n",
    "\n",
    "# filter out rows without profitable (i.e. target), and the few without primary/secondary colors\n",
    "feat_df.dropna(axis=0,\n",
    "               subset=['profitable', 'scolor_1st', 'scolor_2nd'],\n",
    "               inplace=True)\n",
    "\n",
    "# feat_df.head()"
   ]
  },
  {
   "cell_type": "code",
   "execution_count": 8,
   "metadata": {
    "ExecuteTime": {
     "end_time": "2019-11-08T00:43:16.133071Z",
     "start_time": "2019-11-08T00:43:16.107072Z"
    }
   },
   "outputs": [
    {
     "name": "stdout",
     "output_type": "stream",
     "text": [
      "<class 'pandas.core.frame.DataFrame'>\n",
      "Int64Index: 3824 entries, 4 to 4921\n",
      "Data columns (total 65 columns):\n",
      "year                                                3824 non-null int64\n",
      "number_parts                                        3824 non-null int64\n",
      "total_spare_parts                                   3824 non-null int64\n",
      "number_colors                                       3824 non-null int64\n",
      "bars_ladders_and_fences_tot_prts                    3824 non-null int64\n",
      "baseplates_tot_prts                                 3824 non-null int64\n",
      "belville_scala_and_fabuland_tot_prts                3824 non-null int64\n",
      "bionicle_hero_factory_and_constraction_tot_prts     3824 non-null int64\n",
      "bricks_tot_prts                                     3824 non-null int64\n",
      "bricks_curved_tot_prts                              3824 non-null int64\n",
      "bricks_printed_tot_prts                             3824 non-null int64\n",
      "bricks_round_and_cones_tot_prts                     3824 non-null int64\n",
      "bricks_sloped_tot_prts                              3824 non-null int64\n",
      "bricks_special_tot_prts                             3824 non-null int64\n",
      "bricks_wedged_tot_prts                              3824 non-null int64\n",
      "clikits_tot_prts                                    3824 non-null int64\n",
      "containers_tot_prts                                 3824 non-null int64\n",
      "duplo_quatro_and_primo_tot_prts                     3824 non-null int64\n",
      "flags_signs_plastics_and_cloth_tot_prts             3824 non-null int64\n",
      "ho_scale_tot_prts                                   3824 non-null int64\n",
      "hinges_arms_and_turntables_tot_prts                 3824 non-null int64\n",
      "magnets_and_holders_tot_prts                        3824 non-null int64\n",
      "mechanical_tot_prts                                 3824 non-null int64\n",
      "minifig_accessories_tot_prts                        3824 non-null int64\n",
      "minifigs_tot_prts                                   3824 non-null int64\n",
      "non-buildable_figures_tot_prts                      3824 non-null int64\n",
      "non-lego_tot_prts                                   3824 non-null int64\n",
      "other_tot_prts                                      3824 non-null int64\n",
      "panels_tot_prts                                     3824 non-null int64\n",
      "plants_and_animals_tot_prts                         3824 non-null int64\n",
      "plates_tot_prts                                     3824 non-null int64\n",
      "plates_angled_tot_prts                              3824 non-null int64\n",
      "plates_round_and_dishes_tot_prts                    3824 non-null int64\n",
      "plates_special_tot_prts                             3824 non-null int64\n",
      "pneumatics_tot_prts                                 3824 non-null int64\n",
      "power_functions_mindstorms_and_electric_tot_prts    3824 non-null int64\n",
      "rock_tot_prts                                       3824 non-null int64\n",
      "string_bands_and_reels_tot_prts                     3824 non-null int64\n",
      "supports_girders_and_cranes_tot_prts                3824 non-null int64\n",
      "technic_axles_tot_prts                              3824 non-null int64\n",
      "technic_beams_tot_prts                              3824 non-null int64\n",
      "technic_beams_special_tot_prts                      3824 non-null int64\n",
      "technic_bricks_tot_prts                             3824 non-null int64\n",
      "technic_bushes_tot_prts                             3824 non-null int64\n",
      "technic_connectors_tot_prts                         3824 non-null int64\n",
      "technic_gears_tot_prts                              3824 non-null int64\n",
      "technic_panels_tot_prts                             3824 non-null int64\n",
      "technic_pins_tot_prts                               3824 non-null int64\n",
      "technic_special_tot_prts                            3824 non-null int64\n",
      "technic_steering_suspension_and_engine_tot_prts     3824 non-null int64\n",
      "tiles_tot_prts                                      3824 non-null int64\n",
      "tiles_printed_tot_prts                              3824 non-null int64\n",
      "tiles_special_tot_prts                              3824 non-null int64\n",
      "tools_tot_prts                                      3824 non-null int64\n",
      "transportation_-_land_tot_prts                      3824 non-null int64\n",
      "transportation_-_sea_and_air_tot_prts               3824 non-null int64\n",
      "tubes_and_hoses_tot_prts                            3824 non-null int64\n",
      "wheels_and_tyres_tot_prts                           3824 non-null int64\n",
      "windows_and_doors_tot_prts                          3824 non-null int64\n",
      "windscreens_and_fuselage_tot_prts                   3824 non-null int64\n",
      "znap_tot_prts                                       3824 non-null int64\n",
      "category                                            3824 non-null object\n",
      "scolor_1st                                          3824 non-null object\n",
      "scolor_2nd                                          3824 non-null object\n",
      "profitable                                          3824 non-null float64\n",
      "dtypes: float64(1), int64(61), object(3)\n",
      "memory usage: 1.9+ MB\n"
     ]
    }
   ],
   "source": [
    "# confirmed no nulls\n",
    "# feat_df.info(verbose=True, null_counts=True)"
   ]
  },
  {
   "cell_type": "code",
   "execution_count": 9,
   "metadata": {
    "ExecuteTime": {
     "end_time": "2019-11-08T00:43:16.146073Z",
     "start_time": "2019-11-08T00:43:16.136071Z"
    }
   },
   "outputs": [
    {
     "name": "stdout",
     "output_type": "stream",
     "text": [
      "(3824,)\n",
      "(3824, 64)\n"
     ]
    }
   ],
   "source": [
    "# target series\n",
    "target = feat_df['profitable']\n",
    "print(target.shape)\n",
    "\n",
    "# initial features\n",
    "features = feat_df.drop(columns=['profitable'])\n",
    "print(features.shape)"
   ]
  },
  {
   "cell_type": "code",
   "execution_count": 10,
   "metadata": {
    "ExecuteTime": {
     "end_time": "2019-11-08T00:43:16.182073Z",
     "start_time": "2019-11-08T00:43:16.149072Z"
    },
    "scrolled": true
   },
   "outputs": [
    {
     "data": {
      "text/plain": [
       "(3824, 92)"
      ]
     },
     "execution_count": 10,
     "metadata": {},
     "output_type": "execute_result"
    }
   ],
   "source": [
    "# feature dataframe with one-hot encoding\n",
    "features = pd.get_dummies(features, drop_first= True,\n",
    "                          columns=['category', 'scolor_1st', 'scolor_2nd'])\n",
    "features.shape"
   ]
  },
  {
   "cell_type": "markdown",
   "metadata": {},
   "source": [
    "## Train-Test Split"
   ]
  },
  {
   "cell_type": "code",
   "execution_count": 11,
   "metadata": {
    "ExecuteTime": {
     "end_time": "2019-11-08T00:43:16.192180Z",
     "start_time": "2019-11-08T00:43:16.186074Z"
    }
   },
   "outputs": [],
   "source": [
    "TEST_SPLIT = 0.2\n",
    "SEED = 0"
   ]
  },
  {
   "cell_type": "code",
   "execution_count": 12,
   "metadata": {
    "ExecuteTime": {
     "end_time": "2019-11-08T00:43:16.232071Z",
     "start_time": "2019-11-08T00:43:16.197072Z"
    },
    "scrolled": false
   },
   "outputs": [
    {
     "name": "stdout",
     "output_type": "stream",
     "text": [
      "(3059,)\n",
      "(765,)\n",
      "(3059, 92)\n",
      "(765, 92)\n"
     ]
    }
   ],
   "source": [
    "y_train, y_test, X_train, X_test = train_test_split(target, features,\n",
    "                                                    stratify=features['year'],\n",
    "                                                    test_size=TEST_SPLIT, random_state=SEED)\n",
    "\n",
    "print(y_train.shape)\n",
    "print(y_test.shape)\n",
    "print(X_train.shape)\n",
    "print(X_test.shape)"
   ]
  },
  {
   "cell_type": "markdown",
   "metadata": {},
   "source": [
    "## PCA Analysis\n",
    "We implemented Principal Component Analysis (PCA) to see if we could simplify the model and help it generalize well. We identified the number of parameters that explained 95% of the variance below, but during the modeling we also tried other levels. None ultimately proved fruitful. While the count of parameters may represent a different level of explained variance within each fold of the cross validation or the testing data used later in the notebook this was seen as an acceptable approximation. The cumulative explained variance plot showed the promise of being able to reduce dimensionality to improve the speed of the hyperparameter grid search, and we had hoped generalizability as well."
   ]
  },
  {
   "cell_type": "code",
   "execution_count": 13,
   "metadata": {
    "ExecuteTime": {
     "end_time": "2019-11-08T00:43:16.266068Z",
     "start_time": "2019-11-08T00:43:16.235072Z"
    }
   },
   "outputs": [],
   "source": [
    "# standardizing data\n",
    "std_scaler = StandardScaler()\n",
    "X_train_std = std_scaler.fit_transform(X_train)\n",
    "X_test_std = std_scaler.transform(X_test)"
   ]
  },
  {
   "cell_type": "code",
   "execution_count": 14,
   "metadata": {
    "ExecuteTime": {
     "end_time": "2019-11-08T00:43:16.311076Z",
     "start_time": "2019-11-08T00:43:16.268070Z"
    }
   },
   "outputs": [],
   "source": [
    "# Initial full PCA of features\n",
    "pca = PCA(random_state=SEED)\n",
    "x_pca = pca.fit_transform(X_train_std)"
   ]
  },
  {
   "cell_type": "code",
   "execution_count": 15,
   "metadata": {
    "ExecuteTime": {
     "end_time": "2019-11-08T00:43:16.330071Z",
     "start_time": "2019-11-08T00:43:16.316077Z"
    }
   },
   "outputs": [
    {
     "name": "stdout",
     "output_type": "stream",
     "text": [
      "66\n",
      "0.9522254515489256\n"
     ]
    }
   ],
   "source": [
    "# defining count of PCA features to capture 95% of variance from entire train set\n",
    "PCA_COUNT = sum(pca.explained_variance_ratio_.cumsum() < .95) + 1\n",
    "print(PCA_COUNT)\n",
    "PCA_EXPLAINED_VAR = pca.explained_variance_ratio_.cumsum()[PCA_COUNT-1]\n",
    "print(PCA_EXPLAINED_VAR)"
   ]
  },
  {
   "cell_type": "code",
   "execution_count": 16,
   "metadata": {
    "ExecuteTime": {
     "end_time": "2019-11-08T00:43:16.751050Z",
     "start_time": "2019-11-08T00:43:16.335073Z"
    },
    "scrolled": true
   },
   "outputs": [
    {
     "data": {
      "image/png": "[encoded data removed]",
      "text/plain": [
       "<Figure size 432x288 with 1 Axes>"
      ]
     },
     "metadata": {
      "needs_background": "light"
     },
     "output_type": "display_data"
    }
   ],
   "source": [
    "# plotting PCA cumulative explained variance.\n",
    "feat_cnt = X_train.shape[1]\n",
    "plt.plot(range(1,feat_cnt+1), pca.explained_variance_ratio_.cumsum())\n",
    "\n",
    "ax = plt.gca()\n",
    "ax.set_xlabel(\"PCA Components\")\n",
    "ax.set_ylabel(\"% of Explained Variance\")\n",
    "ax.set_title(\"Cumulative Explained Variance by PCA components\")\n",
    "\n",
    "ax.vlines(x=PCA_COUNT, ymin=ax.get_ylim()[0], ymax=ax.get_ylim()[1])\n",
    "ax.annotate(f'{round(100*PCA_EXPLAINED_VAR,1)}% of variance explained \\n with {PCA_COUNT} of {feat_cnt} components',\n",
    "            xy=[PCA_COUNT, PCA_EXPLAINED_VAR],\n",
    "            xytext=[PCA_COUNT+3, PCA_EXPLAINED_VAR-0.1]);"
   ]
  },
  {
   "cell_type": "markdown",
   "metadata": {},
   "source": [
    "## GridSearchCV with XGBoost and Pipeline of Scaling - Baseline\n",
    "A Baseline model is fit with all the parameter and standard scaling. Accuracy is ok, but the significant increase between the CV accuracy and accuracy on the entire training set makes us believe our model may be over fit. Attempts will be made to reduce the features to account for this."
   ]
  },
  {
   "cell_type": "code",
   "execution_count": 65,
   "metadata": {
    "ExecuteTime": {
     "end_time": "2019-11-11T15:01:54.450420Z",
     "start_time": "2019-11-11T15:01:54.436420Z"
    }
   },
   "outputs": [
    {
     "data": {
      "text/plain": [
       "2.814214463840399"
      ]
     },
     "execution_count": 65,
     "metadata": {},
     "output_type": "execute_result"
    }
   ],
   "source": [
    "# calculating class ratio for XGBoost balancing\n",
    "class_pos_rate = len(y_train[y_train==0]) / len(y_train[y_train==1])\n",
    "class_pos_rate"
   ]
  },
  {
   "cell_type": "code",
   "execution_count": 18,
   "metadata": {
    "ExecuteTime": {
     "end_time": "2019-11-08T00:43:16.818585Z",
     "start_time": "2019-11-08T00:43:16.795574Z"
    }
   },
   "outputs": [],
   "source": [
    "# establishing the model\n",
    "pipe = Pipeline([(\"scaler\", StandardScaler()),\n",
    "                 (\"xgb\", XGBClassifier(random_state=SEED,\n",
    "                                       scale_pos_weight=class_pos_rate))])\n",
    "\n",
    "# The original parameter grid is replaced with its resulting selection to speed up the notebook\n",
    "# param_grid = {'xgb__learning_rate': [0.1, 0.15, 0.2],\n",
    "#               'xgb__max_depth': [3, 6, 9],\n",
    "#               'xgb__min_child_weight': [1, 2, 3],\n",
    "#               'xgb__subsample': [0.75, 0.85, 1],\n",
    "#               'xgb__n_estimators': [100, 150, 200]}\n",
    "\n",
    "param_grid = {'xgb__learning_rate': [0.2],\n",
    "              'xgb__max_depth': [9],\n",
    "              'xgb__min_child_weight': [1],\n",
    "              'xgb__subsample': [0.85],\n",
    "              'xgb__n_estimators': [150]}\n",
    "\n",
    "grid_clf = GridSearchCV(pipe, param_grid, scoring='accuracy', cv=3)"
   ]
  },
  {
   "cell_type": "code",
   "execution_count": 19,
   "metadata": {
    "ExecuteTime": {
     "end_time": "2019-11-08T01:02:36.272865Z",
     "start_time": "2019-11-08T00:43:16.822620Z"
    }
   },
   "outputs": [],
   "source": [
    "grid_clf.fit(X_train, y_train);"
   ]
  },
  {
   "cell_type": "code",
   "execution_count": 20,
   "metadata": {
    "ExecuteTime": {
     "end_time": "2019-11-08T01:02:36.286389Z",
     "start_time": "2019-11-08T01:02:36.274869Z"
    }
   },
   "outputs": [
    {
     "data": {
      "text/plain": [
       "0.7933965348152991"
      ]
     },
     "execution_count": 20,
     "metadata": {},
     "output_type": "execute_result"
    }
   ],
   "source": [
    "grid_clf_results = pd.DataFrame(grid_clf.cv_results_)\n",
    "grid_clf.best_score_"
   ]
  },
  {
   "cell_type": "code",
   "execution_count": 33,
   "metadata": {
    "ExecuteTime": {
     "end_time": "2019-11-08T02:09:53.501330Z",
     "start_time": "2019-11-08T02:09:53.438331Z"
    }
   },
   "outputs": [
    {
     "name": "stdout",
     "output_type": "stream",
     "text": [
      "Grid Search found the following optimal parameters: \n",
      "xgb__learning_rate: 0.2\n",
      "xgb__max_depth: 9\n",
      "xgb__min_child_weight: 1\n",
      "xgb__n_estimators: 150\n",
      "xgb__subsample: 0.85\n",
      "\n",
      "Training Accuracy: 99.57%\n"
     ]
    }
   ],
   "source": [
    "# observing grid search results\n",
    "best_parameters = grid_clf.best_params_\n",
    "\n",
    "print(\"Grid Search found the following optimal parameters: \")\n",
    "for param_name in sorted(best_parameters.keys()):\n",
    "    print(\"%s: %r\" % (param_name, best_parameters[param_name]))\n",
    "\n",
    "training_preds = grid_clf.predict(X_train)\n",
    "training_accuracy = accuracy_score(y_train, training_preds)\n",
    "\n",
    "print(\"\")\n",
    "print(\"Training Accuracy: {:.4}%\".format(training_accuracy * 100))"
   ]
  },
  {
   "cell_type": "markdown",
   "metadata": {},
   "source": [
    "## GridSearchCV with XGBoost and Pipeline of Scaling and PCA\n",
    "PCA was seen to result in an unacceptable loss in CV score even when high %'s of explained variance were accounted for. It did not appear to help with potential over-fitting. And will not be pursued further."
   ]
  },
  {
   "cell_type": "code",
   "execution_count": 22,
   "metadata": {
    "ExecuteTime": {
     "end_time": "2019-11-08T01:02:36.376387Z",
     "start_time": "2019-11-08T01:02:36.367388Z"
    }
   },
   "outputs": [],
   "source": [
    "pca_pipe = Pipeline([(\"scaler\", StandardScaler()),\n",
    "                     (\"pca\", PCA(n_components=PCA_COUNT,\n",
    "                                 random_state=SEED)),\n",
    "                     (\"xgb\", XGBClassifier(random_state=SEED,\n",
    "                                           scale_pos_weight=class_pos_rate))])\n",
    "\n",
    "# The original parameter grid is replaced with its resulting selection to speed up the notebook\n",
    "# param_grid = {'xgb__learning_rate': [0.1, 0.15, 0.2],\n",
    "#               'xgb__max_depth': [3, 6, 9],\n",
    "#               'xgb__min_child_weight': [1, 2, 3],\n",
    "#               'xgb__subsample': [0.75, 0.85, 1],\n",
    "#               'xgb__n_estimators': [100, 150, 200]}\n",
    "\n",
    "param_grid = {'xgb__learning_rate': [0.2],\n",
    "              'xgb__max_depth': [9],\n",
    "              'xgb__min_child_weight': [2],\n",
    "              'xgb__subsample': [0.85],\n",
    "              'xgb__n_estimators': [200]}\n",
    "\n",
    "pca_clf = GridSearchCV(pca_pipe, param_grid, scoring='accuracy', cv=3)"
   ]
  },
  {
   "cell_type": "code",
   "execution_count": 23,
   "metadata": {
    "ExecuteTime": {
     "end_time": "2019-11-08T01:32:03.812203Z",
     "start_time": "2019-11-08T01:02:36.379388Z"
    }
   },
   "outputs": [],
   "source": [
    "pca_clf.fit(X_train, y_train);"
   ]
  },
  {
   "cell_type": "code",
   "execution_count": 24,
   "metadata": {
    "ExecuteTime": {
     "end_time": "2019-11-08T01:32:03.825207Z",
     "start_time": "2019-11-08T01:32:03.814203Z"
    }
   },
   "outputs": [
    {
     "data": {
      "text/plain": [
       "0.7692056227525335"
      ]
     },
     "execution_count": 24,
     "metadata": {},
     "output_type": "execute_result"
    }
   ],
   "source": [
    "pca_clf_results = pd.DataFrame(pca_clf.cv_results_)\n",
    "pca_clf.best_score_"
   ]
  },
  {
   "cell_type": "code",
   "execution_count": 25,
   "metadata": {
    "ExecuteTime": {
     "end_time": "2019-11-08T01:32:03.910203Z",
     "start_time": "2019-11-08T01:32:03.829208Z"
    },
    "scrolled": true
   },
   "outputs": [
    {
     "name": "stdout",
     "output_type": "stream",
     "text": [
      "Grid Search found the following optimal parameters: \n",
      "xgb__learning_rate: 0.2\n",
      "xgb__max_depth: 9\n",
      "xgb__min_child_weight: 2\n",
      "xgb__n_estimators: 200\n",
      "xgb__subsample: 0.85\n",
      "\n",
      "Training Accuracy: 99.77%\n"
     ]
    }
   ],
   "source": [
    "pca_best_params = pca_clf.best_params_\n",
    "\n",
    "print(\"Grid Search found the following optimal parameters: \")\n",
    "for param_name in sorted(pca_best_params.keys()):\n",
    "    print(\"%s: %r\" % (param_name, pca_best_params[param_name]))\n",
    "\n",
    "pca_training_preds = pca_clf.predict(X_train)\n",
    "pca_training_accuracy = accuracy_score(y_train, pca_training_preds)\n",
    "\n",
    "print(\"\")\n",
    "print(\"Training Accuracy: {:.4}%\".format(pca_training_accuracy * 100))"
   ]
  },
  {
   "cell_type": "markdown",
   "metadata": {},
   "source": [
    "## GridSearchCV with XGBoost and Pipeline of Scaling and SMOTE Oversampling\n",
    "SMOTE was incorporated into the pipeline to account for the class imbalance. While it showed increased an increased CV score here, it was often observed to decrease the scores slightly in other iterations of the model (i.e. with different parameter grids, different scoring metrics, with PCA, etc.). It will be implemented in parallel to a non-SMOTE model and they will be evaluated at the testing phase."
   ]
  },
  {
   "cell_type": "code",
   "execution_count": 26,
   "metadata": {
    "ExecuteTime": {
     "end_time": "2019-11-08T01:32:03.924208Z",
     "start_time": "2019-11-08T01:32:03.913207Z"
    }
   },
   "outputs": [],
   "source": [
    "smote_pipe = Pipeline([(\"scaler\", StandardScaler()),\n",
    "                       (\"smote\", SMOTE(random_state=SEED)),\n",
    "                       (\"xgb\", XGBClassifier(random_state=SEED))])\n",
    "\n",
    "# The original parameter grid is replaced with its resulting selection to speed up the notebook\n",
    "# param_grid = {'xgb__learning_rate': [0.1, 0.15, 0.2],\n",
    "#               'xgb__max_depth': [3, 6, 9],\n",
    "#               'xgb__min_child_weight': [1, 2, 3],\n",
    "#               'xgb__subsample': [0.75, 0.85, 1],\n",
    "#               'xgb__n_estimators': [100, 150, 200]}\n",
    "\n",
    "param_grid = {'xgb__learning_rate': [0.1],\n",
    "              'xgb__max_depth': [9],\n",
    "              'xgb__min_child_weight': [1],\n",
    "              'xgb__subsample': [1],\n",
    "              'xgb__n_estimators': [100]}\n",
    "\n",
    "smote_grid_clf = GridSearchCV(smote_pipe, param_grid, scoring='accuracy', cv=3)"
   ]
  },
  {
   "cell_type": "code",
   "execution_count": 27,
   "metadata": {
    "ExecuteTime": {
     "end_time": "2019-11-08T02:00:39.642930Z",
     "start_time": "2019-11-08T01:32:03.927204Z"
    }
   },
   "outputs": [],
   "source": [
    "smote_grid_clf.fit(X_train, y_train);"
   ]
  },
  {
   "cell_type": "code",
   "execution_count": 28,
   "metadata": {
    "ExecuteTime": {
     "end_time": "2019-11-08T02:00:39.655899Z",
     "start_time": "2019-11-08T02:00:39.644897Z"
    }
   },
   "outputs": [
    {
     "data": {
      "text/plain": [
       "0.7950310559006211"
      ]
     },
     "execution_count": 28,
     "metadata": {},
     "output_type": "execute_result"
    }
   ],
   "source": [
    "smote_grid_clf_results = pd.DataFrame(smote_grid_clf.cv_results_)\n",
    "smote_grid_clf.best_score_"
   ]
  },
  {
   "cell_type": "code",
   "execution_count": 29,
   "metadata": {
    "ExecuteTime": {
     "end_time": "2019-11-08T02:00:39.710897Z",
     "start_time": "2019-11-08T02:00:39.658899Z"
    }
   },
   "outputs": [
    {
     "name": "stdout",
     "output_type": "stream",
     "text": [
      "Grid Search found the following optimal parameters: \n",
      "xgb__learning_rate: 0.1\n",
      "xgb__max_depth: 9\n",
      "xgb__min_child_weight: 1\n",
      "xgb__n_estimators: 100\n",
      "xgb__subsample: 1\n",
      "\n",
      "Training Accuracy 99.08%\n"
     ]
    }
   ],
   "source": [
    "smote_best_parameters = smote_grid_clf.best_params_\n",
    "\n",
    "print(\"Grid Search found the following optimal parameters: \")\n",
    "for param_name in sorted(smote_best_parameters.keys()):\n",
    "    print(\"%s: %r\" % (param_name, smote_best_parameters[param_name]))\n",
    "\n",
    "smote_training_preds = smote_grid_clf.predict(X_train)\n",
    "smote_training_accuracy = accuracy_score(y_train, smote_training_preds)\n",
    "\n",
    "print(\"\")\n",
    "print(\"Training Accuracy {:.4}%\".format(smote_training_accuracy * 100))"
   ]
  },
  {
   "cell_type": "markdown",
   "metadata": {},
   "source": [
    "## Identifying Most Influential Features from Baseline\n",
    "Features were sorted by their importance in the baseline model. While this isn't a perfect ordering of importance it was seen as better than a random guess and a quick way to isolate more important features.  \n",
    "  \n",
    "Future work on this project would include improving the methodology for selecting the best parameters. Perhaps through backward selection of the ultimately selected subset of features, and potentially on-by-one forward selection of the out of set features to see if one may improve the model even if those higher on the list hadn't."
   ]
  },
  {
   "cell_type": "code",
   "execution_count": 30,
   "metadata": {
    "ExecuteTime": {
     "end_time": "2019-11-08T02:00:39.786894Z",
     "start_time": "2019-11-08T02:00:39.713898Z"
    }
   },
   "outputs": [],
   "source": [
    "importance_df = pd.DataFrame.from_dict(dict(zip(list(X_train.columns),\n",
    "                                                list(grid_clf.best_estimator_\n",
    "                                                             .named_steps[\"xgb\"]\n",
    "                                                            .feature_importances_))),\n",
    "                                       orient='index')\n",
    "importance_df.columns = [\"importance\"]"
   ]
  },
  {
   "cell_type": "code",
   "execution_count": 31,
   "metadata": {
    "ExecuteTime": {
     "end_time": "2019-11-08T02:00:39.808897Z",
     "start_time": "2019-11-08T02:00:39.787896Z"
    }
   },
   "outputs": [
    {
     "data": {
      "text/html": [
       "<div>\n",
       "<style scoped>\n",
       "    .dataframe tbody tr th:only-of-type {\n",
       "        vertical-align: middle;\n",
       "    }\n",
       "\n",
       "    .dataframe tbody tr th {\n",
       "        vertical-align: top;\n",
       "    }\n",
       "\n",
       "    .dataframe thead th {\n",
       "        text-align: right;\n",
       "    }\n",
       "</style>\n",
       "<table border=\"1\" class=\"dataframe\">\n",
       "  <thead>\n",
       "    <tr style=\"text-align: right;\">\n",
       "      <th></th>\n",
       "      <th>importance</th>\n",
       "    </tr>\n",
       "  </thead>\n",
       "  <tbody>\n",
       "    <tr>\n",
       "      <th>category_Historical</th>\n",
       "      <td>0.107342</td>\n",
       "    </tr>\n",
       "    <tr>\n",
       "      <th>category_Licensed-Movie</th>\n",
       "      <td>0.040536</td>\n",
       "    </tr>\n",
       "    <tr>\n",
       "      <th>category_Licensed-Other</th>\n",
       "      <td>0.032610</td>\n",
       "    </tr>\n",
       "    <tr>\n",
       "      <th>category_Bigfig-Girls</th>\n",
       "      <td>0.031346</td>\n",
       "    </tr>\n",
       "    <tr>\n",
       "      <th>mechanical_tot_prts</th>\n",
       "      <td>0.025208</td>\n",
       "    </tr>\n",
       "    <tr>\n",
       "      <th>category_Constraction</th>\n",
       "      <td>0.023480</td>\n",
       "    </tr>\n",
       "    <tr>\n",
       "      <th>category_Licensed-StarWars</th>\n",
       "      <td>0.021591</td>\n",
       "    </tr>\n",
       "    <tr>\n",
       "      <th>other_tot_prts</th>\n",
       "      <td>0.021505</td>\n",
       "    </tr>\n",
       "    <tr>\n",
       "      <th>wheels_and_tyres_tot_prts</th>\n",
       "      <td>0.018199</td>\n",
       "    </tr>\n",
       "    <tr>\n",
       "      <th>category_Sports</th>\n",
       "      <td>0.018093</td>\n",
       "    </tr>\n",
       "    <tr>\n",
       "      <th>power_functions_mindstorms_and_electric_tot_prts</th>\n",
       "      <td>0.016382</td>\n",
       "    </tr>\n",
       "    <tr>\n",
       "      <th>transportation_-_sea_and_air_tot_prts</th>\n",
       "      <td>0.015933</td>\n",
       "    </tr>\n",
       "    <tr>\n",
       "      <th>bionicle_hero_factory_and_constraction_tot_prts</th>\n",
       "      <td>0.015029</td>\n",
       "    </tr>\n",
       "    <tr>\n",
       "      <th>category_Modern-City</th>\n",
       "      <td>0.014148</td>\n",
       "    </tr>\n",
       "    <tr>\n",
       "      <th>category_Bigfig-Junior</th>\n",
       "      <td>0.014087</td>\n",
       "    </tr>\n",
       "    <tr>\n",
       "      <th>category_Lego-Brand</th>\n",
       "      <td>0.013766</td>\n",
       "    </tr>\n",
       "    <tr>\n",
       "      <th>tools_tot_prts</th>\n",
       "      <td>0.013697</td>\n",
       "    </tr>\n",
       "    <tr>\n",
       "      <th>belville_scala_and_fabuland_tot_prts</th>\n",
       "      <td>0.012757</td>\n",
       "    </tr>\n",
       "    <tr>\n",
       "      <th>technic_panels_tot_prts</th>\n",
       "      <td>0.011665</td>\n",
       "    </tr>\n",
       "    <tr>\n",
       "      <th>magnets_and_holders_tot_prts</th>\n",
       "      <td>0.011573</td>\n",
       "    </tr>\n",
       "    <tr>\n",
       "      <th>tubes_and_hoses_tot_prts</th>\n",
       "      <td>0.011455</td>\n",
       "    </tr>\n",
       "    <tr>\n",
       "      <th>znap_tot_prts</th>\n",
       "      <td>0.011262</td>\n",
       "    </tr>\n",
       "    <tr>\n",
       "      <th>scolor_1st_Brown</th>\n",
       "      <td>0.011149</td>\n",
       "    </tr>\n",
       "    <tr>\n",
       "      <th>technic_steering_suspension_and_engine_tot_prts</th>\n",
       "      <td>0.010847</td>\n",
       "    </tr>\n",
       "    <tr>\n",
       "      <th>transportation_-_land_tot_prts</th>\n",
       "      <td>0.010673</td>\n",
       "    </tr>\n",
       "    <tr>\n",
       "      <th>year</th>\n",
       "      <td>0.010438</td>\n",
       "    </tr>\n",
       "    <tr>\n",
       "      <th>scolor_1st_Red</th>\n",
       "      <td>0.010421</td>\n",
       "    </tr>\n",
       "    <tr>\n",
       "      <th>string_bands_and_reels_tot_prts</th>\n",
       "      <td>0.009889</td>\n",
       "    </tr>\n",
       "    <tr>\n",
       "      <th>plates_angled_tot_prts</th>\n",
       "      <td>0.009794</td>\n",
       "    </tr>\n",
       "    <tr>\n",
       "      <th>technic_special_tot_prts</th>\n",
       "      <td>0.009356</td>\n",
       "    </tr>\n",
       "    <tr>\n",
       "      <th>category_Technical</th>\n",
       "      <td>0.009201</td>\n",
       "    </tr>\n",
       "    <tr>\n",
       "      <th>minifigs_tot_prts</th>\n",
       "      <td>0.009125</td>\n",
       "    </tr>\n",
       "    <tr>\n",
       "      <th>bricks_wedged_tot_prts</th>\n",
       "      <td>0.008948</td>\n",
       "    </tr>\n",
       "    <tr>\n",
       "      <th>technic_beams_special_tot_prts</th>\n",
       "      <td>0.008944</td>\n",
       "    </tr>\n",
       "    <tr>\n",
       "      <th>supports_girders_and_cranes_tot_prts</th>\n",
       "      <td>0.008935</td>\n",
       "    </tr>\n",
       "    <tr>\n",
       "      <th>non-lego_tot_prts</th>\n",
       "      <td>0.008874</td>\n",
       "    </tr>\n",
       "    <tr>\n",
       "      <th>technic_beams_tot_prts</th>\n",
       "      <td>0.008755</td>\n",
       "    </tr>\n",
       "    <tr>\n",
       "      <th>technic_gears_tot_prts</th>\n",
       "      <td>0.008617</td>\n",
       "    </tr>\n",
       "    <tr>\n",
       "      <th>windscreens_and_fuselage_tot_prts</th>\n",
       "      <td>0.008586</td>\n",
       "    </tr>\n",
       "    <tr>\n",
       "      <th>bricks_curved_tot_prts</th>\n",
       "      <td>0.008565</td>\n",
       "    </tr>\n",
       "    <tr>\n",
       "      <th>pneumatics_tot_prts</th>\n",
       "      <td>0.008536</td>\n",
       "    </tr>\n",
       "    <tr>\n",
       "      <th>technic_bricks_tot_prts</th>\n",
       "      <td>0.008404</td>\n",
       "    </tr>\n",
       "    <tr>\n",
       "      <th>bricks_tot_prts</th>\n",
       "      <td>0.008370</td>\n",
       "    </tr>\n",
       "    <tr>\n",
       "      <th>rock_tot_prts</th>\n",
       "      <td>0.008334</td>\n",
       "    </tr>\n",
       "    <tr>\n",
       "      <th>plates_tot_prts</th>\n",
       "      <td>0.008212</td>\n",
       "    </tr>\n",
       "    <tr>\n",
       "      <th>bricks_sloped_tot_prts</th>\n",
       "      <td>0.007966</td>\n",
       "    </tr>\n",
       "    <tr>\n",
       "      <th>total_spare_parts</th>\n",
       "      <td>0.007889</td>\n",
       "    </tr>\n",
       "    <tr>\n",
       "      <th>minifig_accessories_tot_prts</th>\n",
       "      <td>0.007851</td>\n",
       "    </tr>\n",
       "    <tr>\n",
       "      <th>category_Space</th>\n",
       "      <td>0.007840</td>\n",
       "    </tr>\n",
       "    <tr>\n",
       "      <th>windows_and_doors_tot_prts</th>\n",
       "      <td>0.007821</td>\n",
       "    </tr>\n",
       "    <tr>\n",
       "      <th>technic_bushes_tot_prts</th>\n",
       "      <td>0.007665</td>\n",
       "    </tr>\n",
       "    <tr>\n",
       "      <th>technic_pins_tot_prts</th>\n",
       "      <td>0.007629</td>\n",
       "    </tr>\n",
       "    <tr>\n",
       "      <th>number_colors</th>\n",
       "      <td>0.007569</td>\n",
       "    </tr>\n",
       "    <tr>\n",
       "      <th>baseplates_tot_prts</th>\n",
       "      <td>0.007497</td>\n",
       "    </tr>\n",
       "    <tr>\n",
       "      <th>containers_tot_prts</th>\n",
       "      <td>0.007466</td>\n",
       "    </tr>\n",
       "    <tr>\n",
       "      <th>technic_connectors_tot_prts</th>\n",
       "      <td>0.007445</td>\n",
       "    </tr>\n",
       "    <tr>\n",
       "      <th>plates_special_tot_prts</th>\n",
       "      <td>0.007441</td>\n",
       "    </tr>\n",
       "    <tr>\n",
       "      <th>plates_round_and_dishes_tot_prts</th>\n",
       "      <td>0.007426</td>\n",
       "    </tr>\n",
       "    <tr>\n",
       "      <th>hinges_arms_and_turntables_tot_prts</th>\n",
       "      <td>0.007280</td>\n",
       "    </tr>\n",
       "    <tr>\n",
       "      <th>tiles_printed_tot_prts</th>\n",
       "      <td>0.007182</td>\n",
       "    </tr>\n",
       "    <tr>\n",
       "      <th>scolor_1st_Blue</th>\n",
       "      <td>0.007176</td>\n",
       "    </tr>\n",
       "    <tr>\n",
       "      <th>bricks_round_and_cones_tot_prts</th>\n",
       "      <td>0.007085</td>\n",
       "    </tr>\n",
       "    <tr>\n",
       "      <th>scolor_1st_White</th>\n",
       "      <td>0.007047</td>\n",
       "    </tr>\n",
       "    <tr>\n",
       "      <th>scolor_2nd_Yellow</th>\n",
       "      <td>0.007032</td>\n",
       "    </tr>\n",
       "    <tr>\n",
       "      <th>scolor_2nd_Red</th>\n",
       "      <td>0.007022</td>\n",
       "    </tr>\n",
       "    <tr>\n",
       "      <th>bricks_special_tot_prts</th>\n",
       "      <td>0.006982</td>\n",
       "    </tr>\n",
       "    <tr>\n",
       "      <th>tiles_tot_prts</th>\n",
       "      <td>0.006937</td>\n",
       "    </tr>\n",
       "    <tr>\n",
       "      <th>tiles_special_tot_prts</th>\n",
       "      <td>0.006746</td>\n",
       "    </tr>\n",
       "    <tr>\n",
       "      <th>plants_and_animals_tot_prts</th>\n",
       "      <td>0.006712</td>\n",
       "    </tr>\n",
       "    <tr>\n",
       "      <th>bricks_printed_tot_prts</th>\n",
       "      <td>0.006698</td>\n",
       "    </tr>\n",
       "    <tr>\n",
       "      <th>panels_tot_prts</th>\n",
       "      <td>0.006696</td>\n",
       "    </tr>\n",
       "    <tr>\n",
       "      <th>technic_axles_tot_prts</th>\n",
       "      <td>0.006457</td>\n",
       "    </tr>\n",
       "    <tr>\n",
       "      <th>scolor_1st_Transparent</th>\n",
       "      <td>0.006456</td>\n",
       "    </tr>\n",
       "    <tr>\n",
       "      <th>flags_signs_plastics_and_cloth_tot_prts</th>\n",
       "      <td>0.006397</td>\n",
       "    </tr>\n",
       "    <tr>\n",
       "      <th>scolor_2nd_Brown</th>\n",
       "      <td>0.006349</td>\n",
       "    </tr>\n",
       "    <tr>\n",
       "      <th>category_Modern-Town</th>\n",
       "      <td>0.006344</td>\n",
       "    </tr>\n",
       "    <tr>\n",
       "      <th>scolor_2nd_Gray</th>\n",
       "      <td>0.006291</td>\n",
       "    </tr>\n",
       "    <tr>\n",
       "      <th>bars_ladders_and_fences_tot_prts</th>\n",
       "      <td>0.006289</td>\n",
       "    </tr>\n",
       "    <tr>\n",
       "      <th>number_parts</th>\n",
       "      <td>0.006276</td>\n",
       "    </tr>\n",
       "    <tr>\n",
       "      <th>scolor_2nd_Blue</th>\n",
       "      <td>0.006010</td>\n",
       "    </tr>\n",
       "    <tr>\n",
       "      <th>scolor_2nd_Tan</th>\n",
       "      <td>0.005786</td>\n",
       "    </tr>\n",
       "    <tr>\n",
       "      <th>scolor_1st_Yellow</th>\n",
       "      <td>0.005638</td>\n",
       "    </tr>\n",
       "    <tr>\n",
       "      <th>scolor_1st_Tan</th>\n",
       "      <td>0.005549</td>\n",
       "    </tr>\n",
       "    <tr>\n",
       "      <th>scolor_2nd_Green</th>\n",
       "      <td>0.005246</td>\n",
       "    </tr>\n",
       "    <tr>\n",
       "      <th>scolor_2nd_White</th>\n",
       "      <td>0.004972</td>\n",
       "    </tr>\n",
       "    <tr>\n",
       "      <th>scolor_1st_Gray</th>\n",
       "      <td>0.004430</td>\n",
       "    </tr>\n",
       "    <tr>\n",
       "      <th>scolor_2nd_Transparent</th>\n",
       "      <td>0.004239</td>\n",
       "    </tr>\n",
       "    <tr>\n",
       "      <th>scolor_1st_Green</th>\n",
       "      <td>0.002538</td>\n",
       "    </tr>\n",
       "    <tr>\n",
       "      <th>duplo_quatro_and_primo_tot_prts</th>\n",
       "      <td>0.000000</td>\n",
       "    </tr>\n",
       "    <tr>\n",
       "      <th>non-buildable_figures_tot_prts</th>\n",
       "      <td>0.000000</td>\n",
       "    </tr>\n",
       "    <tr>\n",
       "      <th>clikits_tot_prts</th>\n",
       "      <td>0.000000</td>\n",
       "    </tr>\n",
       "    <tr>\n",
       "      <th>ho_scale_tot_prts</th>\n",
       "      <td>0.000000</td>\n",
       "    </tr>\n",
       "  </tbody>\n",
       "</table>\n",
       "</div>"
      ],
      "text/plain": [
       "                                                  importance\n",
       "category_Historical                                 0.107342\n",
       "category_Licensed-Movie                             0.040536\n",
       "category_Licensed-Other                             0.032610\n",
       "category_Bigfig-Girls                               0.031346\n",
       "mechanical_tot_prts                                 0.025208\n",
       "category_Constraction                               0.023480\n",
       "category_Licensed-StarWars                          0.021591\n",
       "other_tot_prts                                      0.021505\n",
       "wheels_and_tyres_tot_prts                           0.018199\n",
       "category_Sports                                     0.018093\n",
       "power_functions_mindstorms_and_electric_tot_prts    0.016382\n",
       "transportation_-_sea_and_air_tot_prts               0.015933\n",
       "bionicle_hero_factory_and_constraction_tot_prts     0.015029\n",
       "category_Modern-City                                0.014148\n",
       "category_Bigfig-Junior                              0.014087\n",
       "category_Lego-Brand                                 0.013766\n",
       "tools_tot_prts                                      0.013697\n",
       "belville_scala_and_fabuland_tot_prts                0.012757\n",
       "technic_panels_tot_prts                             0.011665\n",
       "magnets_and_holders_tot_prts                        0.011573\n",
       "tubes_and_hoses_tot_prts                            0.011455\n",
       "znap_tot_prts                                       0.011262\n",
       "scolor_1st_Brown                                    0.011149\n",
       "technic_steering_suspension_and_engine_tot_prts     0.010847\n",
       "transportation_-_land_tot_prts                      0.010673\n",
       "year                                                0.010438\n",
       "scolor_1st_Red                                      0.010421\n",
       "string_bands_and_reels_tot_prts                     0.009889\n",
       "plates_angled_tot_prts                              0.009794\n",
       "technic_special_tot_prts                            0.009356\n",
       "category_Technical                                  0.009201\n",
       "minifigs_tot_prts                                   0.009125\n",
       "bricks_wedged_tot_prts                              0.008948\n",
       "technic_beams_special_tot_prts                      0.008944\n",
       "supports_girders_and_cranes_tot_prts                0.008935\n",
       "non-lego_tot_prts                                   0.008874\n",
       "technic_beams_tot_prts                              0.008755\n",
       "technic_gears_tot_prts                              0.008617\n",
       "windscreens_and_fuselage_tot_prts                   0.008586\n",
       "bricks_curved_tot_prts                              0.008565\n",
       "pneumatics_tot_prts                                 0.008536\n",
       "technic_bricks_tot_prts                             0.008404\n",
       "bricks_tot_prts                                     0.008370\n",
       "rock_tot_prts                                       0.008334\n",
       "plates_tot_prts                                     0.008212\n",
       "bricks_sloped_tot_prts                              0.007966\n",
       "total_spare_parts                                   0.007889\n",
       "minifig_accessories_tot_prts                        0.007851\n",
       "category_Space                                      0.007840\n",
       "windows_and_doors_tot_prts                          0.007821\n",
       "technic_bushes_tot_prts                             0.007665\n",
       "technic_pins_tot_prts                               0.007629\n",
       "number_colors                                       0.007569\n",
       "baseplates_tot_prts                                 0.007497\n",
       "containers_tot_prts                                 0.007466\n",
       "technic_connectors_tot_prts                         0.007445\n",
       "plates_special_tot_prts                             0.007441\n",
       "plates_round_and_dishes_tot_prts                    0.007426\n",
       "hinges_arms_and_turntables_tot_prts                 0.007280\n",
       "tiles_printed_tot_prts                              0.007182\n",
       "scolor_1st_Blue                                     0.007176\n",
       "bricks_round_and_cones_tot_prts                     0.007085\n",
       "scolor_1st_White                                    0.007047\n",
       "scolor_2nd_Yellow                                   0.007032\n",
       "scolor_2nd_Red                                      0.007022\n",
       "bricks_special_tot_prts                             0.006982\n",
       "tiles_tot_prts                                      0.006937\n",
       "tiles_special_tot_prts                              0.006746\n",
       "plants_and_animals_tot_prts                         0.006712\n",
       "bricks_printed_tot_prts                             0.006698\n",
       "panels_tot_prts                                     0.006696\n",
       "technic_axles_tot_prts                              0.006457\n",
       "scolor_1st_Transparent                              0.006456\n",
       "flags_signs_plastics_and_cloth_tot_prts             0.006397\n",
       "scolor_2nd_Brown                                    0.006349\n",
       "category_Modern-Town                                0.006344\n",
       "scolor_2nd_Gray                                     0.006291\n",
       "bars_ladders_and_fences_tot_prts                    0.006289\n",
       "number_parts                                        0.006276\n",
       "scolor_2nd_Blue                                     0.006010\n",
       "scolor_2nd_Tan                                      0.005786\n",
       "scolor_1st_Yellow                                   0.005638\n",
       "scolor_1st_Tan                                      0.005549\n",
       "scolor_2nd_Green                                    0.005246\n",
       "scolor_2nd_White                                    0.004972\n",
       "scolor_1st_Gray                                     0.004430\n",
       "scolor_2nd_Transparent                              0.004239\n",
       "scolor_1st_Green                                    0.002538\n",
       "duplo_quatro_and_primo_tot_prts                     0.000000\n",
       "non-buildable_figures_tot_prts                      0.000000\n",
       "clikits_tot_prts                                    0.000000\n",
       "ho_scale_tot_prts                                   0.000000"
      ]
     },
     "execution_count": 31,
     "metadata": {},
     "output_type": "execute_result"
    }
   ],
   "source": [
    "importance_df = importance_df.sort_values(by=\"importance\",\n",
    "                                          ascending=False)\n",
    "importance_df"
   ]
  },
  {
   "cell_type": "code",
   "execution_count": 54,
   "metadata": {
    "ExecuteTime": {
     "end_time": "2019-11-11T14:28:27.739847Z",
     "start_time": "2019-11-11T14:28:27.723845Z"
    }
   },
   "outputs": [],
   "source": [
    "top_feats = list(importance_df.head(71).index)\n",
    "X_train_subset = X_train[top_feats]\n",
    "X_test_subset = X_test[top_feats]"
   ]
  },
  {
   "cell_type": "markdown",
   "metadata": {},
   "source": [
    "## GridSearchCV with XGBoost and Pipeline of Scaling with Most Important Features\n",
    "The model was fit on the top 20 features and then additional features were added to the subset one at a time and the subset with the top CV score was chosen as the final model. This included the top 71 features from the baseline model and showed 0.5% improvement in accuracy.  \n",
    "  \n",
    "The reduction in features will hopefully decrease the risk of over-fitting which was observed through the high training scores when the model was fit to the entirety of the training data."
   ]
  },
  {
   "cell_type": "code",
   "execution_count": 57,
   "metadata": {
    "ExecuteTime": {
     "end_time": "2019-11-11T14:29:31.212428Z",
     "start_time": "2019-11-11T14:29:31.202430Z"
    }
   },
   "outputs": [],
   "source": [
    "impt_pipe = Pipeline([(\"scaler\", StandardScaler()),\n",
    "                      (\"xgb\", XGBClassifier(random_state=SEED,\n",
    "                                            scale_pos_weight=class_pos_rate))])\n",
    "\n",
    "# The original parameter grid is replaced with its resulting selection to speed up the notebook\n",
    "# param_grid = {'xgb__learning_rate': [0.1, 0.15, 0.2],\n",
    "#               'xgb__max_depth': [3, 6, 9],\n",
    "#               'xgb__min_child_weight': [1, 2, 3],\n",
    "#               'xgb__subsample': [0.75, 0.85, 1],\n",
    "#               'xgb__n_estimators': [100, 150, 200]}\n",
    "\n",
    "param_grid = {'xgb__learning_rate': [0.1],\n",
    "              'xgb__max_depth': [9],\n",
    "              'xgb__min_child_weight': [1],\n",
    "              'xgb__subsample': [0.85],\n",
    "              'xgb__n_estimators': [200]}\n",
    "\n",
    "impt_clf = GridSearchCV(impt_pipe, param_grid, scoring='accuracy', cv=3)"
   ]
  },
  {
   "cell_type": "code",
   "execution_count": 58,
   "metadata": {
    "ExecuteTime": {
     "end_time": "2019-11-11T14:41:51.965945Z",
     "start_time": "2019-11-11T14:29:31.216426Z"
    }
   },
   "outputs": [],
   "source": [
    "impt_clf.fit(X_train_subset, y_train);"
   ]
  },
  {
   "cell_type": "code",
   "execution_count": 59,
   "metadata": {
    "ExecuteTime": {
     "end_time": "2019-11-11T14:41:51.984921Z",
     "start_time": "2019-11-11T14:41:51.968920Z"
    }
   },
   "outputs": [
    {
     "data": {
      "text/plain": [
       "0.7986270022883295"
      ]
     },
     "execution_count": 59,
     "metadata": {},
     "output_type": "execute_result"
    }
   ],
   "source": [
    "impt_clf_results = pd.DataFrame(impt_clf.cv_results_)\n",
    "impt_clf.best_score_"
   ]
  },
  {
   "cell_type": "code",
   "execution_count": 60,
   "metadata": {
    "ExecuteTime": {
     "end_time": "2019-11-11T14:41:52.069921Z",
     "start_time": "2019-11-11T14:41:51.989921Z"
    }
   },
   "outputs": [
    {
     "name": "stdout",
     "output_type": "stream",
     "text": [
      "Grid Search found the following optimal parameters: \n",
      "xgb__learning_rate: 0.1\n",
      "xgb__max_depth: 9\n",
      "xgb__min_child_weight: 1\n",
      "xgb__n_estimators: 200\n",
      "xgb__subsample: 0.85\n",
      "\n",
      "Training Accuracy: 99.64%\n"
     ]
    }
   ],
   "source": [
    "impt_best_parameters = impt_clf.best_params_\n",
    "\n",
    "print(\"Grid Search found the following optimal parameters: \")\n",
    "for param_name in sorted(impt_best_parameters.keys()):\n",
    "    print(\"%s: %r\" % (param_name, impt_best_parameters[param_name]))\n",
    "\n",
    "impt_training_preds = impt_clf.predict(X_train_subset)\n",
    "impt_training_accuracy = accuracy_score(y_train, impt_training_preds)\n",
    "\n",
    "print(\"\")\n",
    "print(\"Training Accuracy: {:.4}%\".format(impt_training_accuracy * 100))"
   ]
  },
  {
   "cell_type": "markdown",
   "metadata": {},
   "source": [
    "## GridSearchCV with XGBoost and Pipeline of Scaling and SMOTE with Most Important Features\n",
    "The previous model was also checked with SMOTE, but it didn't perform as well."
   ]
  },
  {
   "cell_type": "code",
   "execution_count": 61,
   "metadata": {
    "ExecuteTime": {
     "end_time": "2019-11-11T14:41:52.085919Z",
     "start_time": "2019-11-11T14:41:52.074922Z"
    }
   },
   "outputs": [],
   "source": [
    "impt_smote_pipe = Pipeline([(\"scaler\", StandardScaler()),\n",
    "                      (\"smote\", SMOTE(random_state=SEED)),\n",
    "                      (\"xgb\", XGBClassifier(random_state=SEED))])\n",
    "\n",
    "# The original parameter grid is replaced with its resulting selection to speed up the notebook\n",
    "# param_grid = {'xgb__learning_rate': [0.1, 0.15, 0.2],\n",
    "#               'xgb__max_depth': [3, 6, 9],\n",
    "#               'xgb__min_child_weight': [1, 2, 3],\n",
    "#               'xgb__subsample': [0.75, 0.85, 1],\n",
    "#               'xgb__n_estimators': [100, 150, 200]}\n",
    "\n",
    "param_grid = {'xgb__learning_rate': [0.1],\n",
    "              'xgb__max_depth': [9],\n",
    "              'xgb__min_child_weight': [1],\n",
    "              'xgb__subsample': [0.85],\n",
    "              'xgb__n_estimators': [200]}\n",
    "\n",
    "impt_smote_clf = GridSearchCV(impt_smote_pipe, param_grid, scoring='accuracy', cv=3)"
   ]
  },
  {
   "cell_type": "code",
   "execution_count": 62,
   "metadata": {
    "ExecuteTime": {
     "end_time": "2019-11-11T15:01:54.359419Z",
     "start_time": "2019-11-11T14:41:52.088924Z"
    }
   },
   "outputs": [],
   "source": [
    "impt_smote_clf.fit(X_train_subset, y_train);"
   ]
  },
  {
   "cell_type": "code",
   "execution_count": 63,
   "metadata": {
    "ExecuteTime": {
     "end_time": "2019-11-11T15:01:54.375419Z",
     "start_time": "2019-11-11T15:01:54.362422Z"
    }
   },
   "outputs": [
    {
     "data": {
      "text/plain": [
       "0.7966655769859431"
      ]
     },
     "execution_count": 63,
     "metadata": {},
     "output_type": "execute_result"
    }
   ],
   "source": [
    "impt_smote_clf_results = pd.DataFrame(impt_smote_clf.cv_results_)\n",
    "impt_smote_clf.best_score_"
   ]
  },
  {
   "cell_type": "code",
   "execution_count": 64,
   "metadata": {
    "ExecuteTime": {
     "end_time": "2019-11-11T15:01:54.433416Z",
     "start_time": "2019-11-11T15:01:54.378420Z"
    }
   },
   "outputs": [
    {
     "name": "stdout",
     "output_type": "stream",
     "text": [
      "Grid Search found the following optimal parameters: \n",
      "xgb__learning_rate: 0.1\n",
      "xgb__max_depth: 9\n",
      "xgb__min_child_weight: 1\n",
      "xgb__n_estimators: 200\n",
      "xgb__subsample: 0.85\n",
      "\n",
      "Training Accuracy: 96.53%\n"
     ]
    }
   ],
   "source": [
    "impt_smote_best_parameters = impt_clf.best_params_\n",
    "\n",
    "print(\"Grid Search found the following optimal parameters: \")\n",
    "for param_name in sorted(impt_smote_best_parameters.keys()):\n",
    "    print(\"%s: %r\" % (param_name, impt_smote_best_parameters[param_name]))\n",
    "\n",
    "impt_smote_training_preds = impt_smote_clf.predict(X_train_subset)\n",
    "impt_smote_training_accuracy = accuracy_score(y_train, impt_smote_training_preds)\n",
    "\n",
    "print(\"\")\n",
    "print(\"Training Accuracy: {:.4}%\".format(impt_smote_training_accuracy * 100))"
   ]
  },
  {
   "cell_type": "markdown",
   "metadata": {},
   "source": [
    "## Testing\n",
    "Attempts were made to optimize the model to increase the F1 score, but it was observed to significantly increase recall while also decreasing precision. While it was nice that it produced many more true positives, it did so at an unacceptable loss in precision, so accuracy was maintained as the key metric.\n",
    "\n",
    "The final model with only the important features performed best. Future efforts to improve the model should include more robust attempts at identifying the most important features, so over-fitting can be mitigated."
   ]
  },
  {
   "cell_type": "code",
   "execution_count": 72,
   "metadata": {
    "ExecuteTime": {
     "end_time": "2019-11-11T15:04:59.065723Z",
     "start_time": "2019-11-11T15:04:58.958202Z"
    }
   },
   "outputs": [
    {
     "name": "stdout",
     "output_type": "stream",
     "text": [
      "XGBoost Baseline Validation Accuracy: 80.0%\n",
      "\n",
      "XGBoost w/ PCA Validation Accuracy: 79.48%\n",
      "\n",
      "XGBoost w/ SMOTE Validation Accuracy: 79.87%\n",
      "\n",
      "XGBoost w/ Most Important Features Validation Accuracy: 81.31%\n",
      "\n",
      "XGBoost w/ Most Important Features & SMOTE Validation Accuracy: 80.52%\n",
      "\n",
      "Accuracy Assuming None Profitable: 72.16%\n"
     ]
    }
   ],
   "source": [
    "val_preds = grid_clf.predict(X_test)\n",
    "val_accuracy = accuracy_score(y_test, val_preds)\n",
    "\n",
    "pca_val_preds = pca_clf.predict(X_test)\n",
    "pca_val_accuracy = accuracy_score(y_test, pca_val_preds)\n",
    "\n",
    "smote_val_preds = smote_grid_clf.predict(X_test)\n",
    "smote_val_accuracy = accuracy_score(y_test, smote_val_preds)\n",
    "\n",
    "impt_val_preds = impt_clf.predict(X_test_subset)\n",
    "impt_val_accuracy = accuracy_score(y_test, impt_val_preds)\n",
    "\n",
    "impt_smote_val_preds = impt_smote_clf.predict(X_test_subset)\n",
    "impt_smote_val_accuracy = accuracy_score(y_test, impt_smote_val_preds)\n",
    "\n",
    "print(\"XGBoost Baseline Validation Accuracy: {:.4}%\".format(val_accuracy * 100))\n",
    "print(\"\")\n",
    "print(\"XGBoost w/ PCA Validation Accuracy: {:.4}%\".format(pca_val_accuracy * 100))\n",
    "print(\"\")\n",
    "print(\"XGBoost w/ SMOTE Validation Accuracy: {:.4}%\".format(smote_val_accuracy * 100))\n",
    "print(\"\")\n",
    "print(\"XGBoost w/ Most Important Features Validation Accuracy: {:.4}%\".format(impt_val_accuracy * 100))\n",
    "print(\"\")\n",
    "print(\"XGBoost w/ Most Important Features & SMOTE Validation Accuracy: {:.4}%\".format(impt_smote_val_accuracy * 100))\n",
    "print(\"\")\n",
    "print(\"Accuracy Assuming None Profitable: {:.4}%\".format(len(y_test[y_test==0]) / len(y_test) * 100))"
   ]
  },
  {
   "cell_type": "code",
   "execution_count": 76,
   "metadata": {
    "ExecuteTime": {
     "end_time": "2019-11-11T15:07:48.881475Z",
     "start_time": "2019-11-11T15:07:47.554474Z"
    },
    "scrolled": true
   },
   "outputs": [
    {
     "data": {
      "image/png": "[encoded data removed]",
      "text/plain": [
       "<Figure size 432x2160 with 10 Axes>"
      ]
     },
     "metadata": {
      "needs_background": "light"
     },
     "output_type": "display_data"
    }
   ],
   "source": [
    "#plotting confusion matrices\n",
    "fig, axes = plt.subplots(5, 1, figsize=(6,30))\n",
    "\n",
    "pcm.plot_confusion_matrix(y_test.astype('int64'),\n",
    "                          val_preds.astype('int64'),\n",
    "                          title=\"Confusion Matrix - XGBoost - Baseline\",\n",
    "                          classes=np.array([0,1]),\n",
    "                          figure=fig,\n",
    "                          axis=axes[0])\n",
    "\n",
    "pcm.plot_confusion_matrix(y_test.astype('int64'),\n",
    "                          pca_val_preds.astype('int64'),\n",
    "                          title=\"Confusion Matrix - XGBoost w/ PCA\",\n",
    "                          classes=np.array([0,1]),\n",
    "                          figure=fig,\n",
    "                          axis=axes[1])\n",
    "\n",
    "pcm.plot_confusion_matrix(y_test.astype('int64'),\n",
    "                          smote_val_preds.astype('int64'),\n",
    "                          title=\"Confusion Matrix - XGBoost w/ SMOTE\",\n",
    "                          classes=np.array([0,1]),\n",
    "                          figure=fig,\n",
    "                          axis=axes[2])\n",
    "\n",
    "pcm.plot_confusion_matrix(y_test.astype('int64'),\n",
    "                          impt_val_preds.astype('int64'),\n",
    "                          title=\"Confusion Matrix - XGBoost w/ Important Features\",\n",
    "                          classes=np.array([0,1]),\n",
    "                          figure=fig,\n",
    "                          axis=axes[3])\n",
    "\n",
    "pcm.plot_confusion_matrix(y_test.astype('int64'),\n",
    "                          impt_smote_val_preds.astype('int64'),\n",
    "                          title=\"Confusion Matrix - XGBoost w/ Important Feats & SMOTE\",\n",
    "                          classes=np.array([0,1]),\n",
    "                          figure=fig,\n",
    "                          axis=axes[4])\n",
    "\n",
    "# a bug in the current version of matplotlib shifts the default ylim,\n",
    "# and the code below corrects it\n",
    "axes[0].set_ylim(1.5, -0.5)\n",
    "axes[1].set_ylim(1.5, -0.5)\n",
    "axes[2].set_ylim(1.5, -0.5)\n",
    "axes[3].set_ylim(1.5, -0.5)\n",
    "axes[4].set_ylim(1.5, -0.5);"
   ]
  }
 ],
 "metadata": {
  "kernelspec": {
   "display_name": "Python 3",
   "language": "python",
   "name": "python3"
  },
  "language_info": {
   "codemirror_mode": {
    "name": "ipython",
    "version": 3
   },
   "file_extension": ".py",
   "mimetype": "text/x-python",
   "name": "python",
   "nbconvert_exporter": "python",
   "pygments_lexer": "ipython3",
   "version": "3.7.5"
  },
  "toc": {
   "base_numbering": 1,
   "nav_menu": {},
   "number_sections": true,
   "sideBar": true,
   "skip_h1_title": false,
   "title_cell": "Table of Contents",
   "title_sidebar": "Contents",
   "toc_cell": false,
   "toc_position": {},
   "toc_section_display": true,
   "toc_window_display": false
  }
 },
 "nbformat": 4,
 "nbformat_minor": 2
}
